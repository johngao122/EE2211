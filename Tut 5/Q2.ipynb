{
 "cells": [
  {
   "cell_type": "code",
   "execution_count": 3,
   "metadata": {},
   "outputs": [],
   "source": [
    "import numpy as np\n",
    "from matplotlib import pyplot as plt\n",
    "from sklearn.linear_model import LinearRegression"
   ]
  },
  {
   "cell_type": "code",
   "execution_count": 4,
   "metadata": {},
   "outputs": [
    {
     "name": "stdout",
     "output_type": "stream",
     "text": [
      "With bias: 1. 3.2424242424242418, 2. -2.333333333333338\n",
      "Without bias: 1. 3.666666666666663, 2. -3.6666666666666594\n"
     ]
    }
   ],
   "source": [
    "training_X = np.array([[1,0,1],[2,-1,1],[1,1,5]])\n",
    "training_Y = np.array([1,2,3])\n",
    "\n",
    "linear_model_with_bias = LinearRegression(fit_intercept=True)\n",
    "linear_model_without_bias = LinearRegression(fit_intercept=False)\n",
    "\n",
    "linear_model_with_bias.fit(training_X, training_Y)\n",
    "linear_model_without_bias.fit(training_X, training_Y)\n",
    "\n",
    "test_X = np.array([[-1,2,8],[1,5,-1]])\n",
    "\n",
    "y_pred_with_bias = linear_model_with_bias.predict(test_X)\n",
    "y_pred_without_bias = linear_model_without_bias.predict(test_X)\n",
    "\n",
    "print(f\"With bias: 1. {y_pred_with_bias[0]}, 2. {y_pred_with_bias[1]}\")\n",
    "print(f\"Without bias: 1. {y_pred_without_bias[0]}, 2. {y_pred_without_bias[1]}\") \n",
    "\n"
   ]
  }
 ],
 "metadata": {
  "kernelspec": {
   "display_name": "base",
   "language": "python",
   "name": "python3"
  },
  "language_info": {
   "codemirror_mode": {
    "name": "ipython",
    "version": 3
   },
   "file_extension": ".py",
   "mimetype": "text/x-python",
   "name": "python",
   "nbconvert_exporter": "python",
   "pygments_lexer": "ipython3",
   "version": "3.11.4"
  }
 },
 "nbformat": 4,
 "nbformat_minor": 2
}
