{
 "cells": [
  {
   "cell_type": "code",
   "execution_count": 19,
   "metadata": {},
   "outputs": [],
   "source": [
    "import numpy as np"
   ]
  },
  {
   "cell_type": "markdown",
   "metadata": {},
   "source": [
    "Question 1"
   ]
  },
  {
   "cell_type": "code",
   "execution_count": 20,
   "metadata": {},
   "outputs": [
    {
     "name": "stdout",
     "output_type": "stream",
     "text": [
      "[-1.  1.]\n"
     ]
    }
   ],
   "source": [
    "X = np.array([[1,1],[3,4]])\n",
    "inv_X = np.linalg.inv(X)\n",
    "\n",
    "Y = np.array([0,1])\n",
    "\n",
    "w = np.dot(inv_X, Y)\n",
    "\n",
    "print(w)\n"
   ]
  },
  {
   "cell_type": "markdown",
   "metadata": {},
   "source": [
    "Question 2\n",
    "\n",
    "(a) It is an even determined system \n",
    "(b) It is not invertible as the determinant of X is 0\n",
    "(c) There is no solution for W as X is a singular matrix\n"
   ]
  },
  {
   "cell_type": "markdown",
   "metadata": {},
   "source": [
    "Question 3\n",
    "(a) It is an overdetemined system\n",
    "(b) It is not invertible\n"
   ]
  },
  {
   "cell_type": "code",
   "execution_count": 21,
   "metadata": {},
   "outputs": [
    {
     "name": "stdout",
     "output_type": "stream",
     "text": [
      "[ 0.68 -0.32]\n"
     ]
    }
   ],
   "source": [
    "X = np.array([[1,2],[2,4],[1,-1]])\n",
    "\n",
    "inv_XTX = np.linalg.inv(X.transpose().dot(X))   \n",
    "\n",
    "pinv = inv_XTX.dot(X.transpose())\n",
    "\n",
    "Y = np.array([0,0.1,1])\n",
    "\n",
    "w = np.dot(pinv, Y)\n",
    "\n",
    "print(w)"
   ]
  }
 ],
 "metadata": {
  "kernelspec": {
   "display_name": "base",
   "language": "python",
   "name": "python3"
  },
  "language_info": {
   "codemirror_mode": {
    "name": "ipython",
    "version": 3
   },
   "file_extension": ".py",
   "mimetype": "text/x-python",
   "name": "python",
   "nbconvert_exporter": "python",
   "pygments_lexer": "ipython3",
   "version": "3.11.4"
  }
 },
 "nbformat": 4,
 "nbformat_minor": 2
}
